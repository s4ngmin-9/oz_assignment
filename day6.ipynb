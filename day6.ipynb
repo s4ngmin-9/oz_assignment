{
 "cells": [
  {
   "cell_type": "markdown",
   "metadata": {},
   "source": [
    "안녕하세요. 수강생 여러분~! Chapter21 ~ 32 수업은 잘 들으셨나요?\n",
    "\n",
    "Chapter21 ~ 32의 수업 내용을 바탕으로 아래 문제를 풀어주시면 됩니다.\n",
    "\n",
    "\n",
    "<br>\n",
    "\n",
    "\n",
    "[**답변 입력 방법**]\n",
    "\n",
    "문제 아래에 있는 코드 입력창에 정답코드를 작성하신 후  __▷ 버튼을 클릭해 코드를 실행__ 해보세요<br>"
   ]
  },
  {
   "cell_type": "markdown",
   "metadata": {},
   "source": [
    "---"
   ]
  },
  {
   "cell_type": "markdown",
   "metadata": {},
   "source": [
    "[문제 1]\n",
    "사용자로부터 이름과 나이를 입력 받아, \"안녕하세요, [이름]님! 당신은 [나이]살입니다.\"라고 출력하는 함수 greet_user를 작성하세요."
   ]
  },
  {
   "cell_type": "code",
   "execution_count": 9,
   "metadata": {},
   "outputs": [
    {
     "name": "stdout",
     "output_type": "stream",
     "text": [
      "안녕하세요, [이름]님! 당신은 [나이]살입니다.\n"
     ]
    }
   ],
   "source": [
    "def greet_user(name, age):\n",
    "    print(f'안녕하세요, {name}님! 당신은 {age}살입니다.')\n",
    "\n",
    "greet_user('[이름]', '[나이]')"
   ]
  },
  {
   "cell_type": "markdown",
   "metadata": {},
   "source": [
    "---"
   ]
  },
  {
   "cell_type": "markdown",
   "metadata": {},
   "source": [
    "[문제 2] 여러 숫자를 입력받아 그 합계를 반환하는 함수 sum_numbers를 작성하세요. 이 때, 가변 매개변수를 사용하세요."
   ]
  },
  {
   "cell_type": "code",
   "execution_count": 10,
   "metadata": {},
   "outputs": [
    {
     "name": "stdout",
     "output_type": "stream",
     "text": [
      "10\n"
     ]
    }
   ],
   "source": [
    "def sum_numbers(*numbers):\n",
    "    return sum(numbers)\n",
    "\n",
    "print(sum_numbers(1, 2, 3, 4))"
   ]
  },
  {
   "cell_type": "markdown",
   "metadata": {},
   "source": [
    "---"
   ]
  },
  {
   "cell_type": "markdown",
   "metadata": {},
   "source": [
    "[문제 3] 사용자의 이름을 출력하는 함수 print_name을 작성하세요. 만약 이름이 주어지지 않았다면, 기본값으로 \"익명\"을 사용하세요."
   ]
  },
  {
   "cell_type": "code",
   "execution_count": 14,
   "metadata": {},
   "outputs": [
    {
     "name": "stdout",
     "output_type": "stream",
     "text": [
      "익명\n",
      "정상민\n"
     ]
    }
   ],
   "source": [
    "def print_name(name='익명'):\n",
    "    print(name)\n",
    "\n",
    "print_name()\n",
    "print_name('정상민')"
   ]
  },
  {
   "cell_type": "markdown",
   "metadata": {},
   "source": [
    "---"
   ]
  },
  {
   "cell_type": "markdown",
   "metadata": {},
   "source": [
    "[문제 4] 사용자의 이름, 나이, 성별을 출력하는 함수 print_info를 작성하세요. 이 때, 모든 매개변수는 키워드 매개변수로만 받도록 하세요."
   ]
  },
  {
   "cell_type": "code",
   "execution_count": 13,
   "metadata": {},
   "outputs": [
    {
     "name": "stdout",
     "output_type": "stream",
     "text": [
      "이름: 정상민\n",
      "나이: 27\n",
      "성별: 남자\n"
     ]
    }
   ],
   "source": [
    "def print_info(*, name, age, gender):\n",
    "    print('이름:', name)\n",
    "    print('나이:', age)\n",
    "    print('성별:', gender)\n",
    "\n",
    "print_info(name = '정상민', age = 27, gender = '남자')"
   ]
  },
  {
   "cell_type": "markdown",
   "metadata": {},
   "source": [
    "---"
   ]
  },
  {
   "cell_type": "markdown",
   "metadata": {},
   "source": [
    "[문제 5] 두 개의 정수를 받아 합을 반환하는 함수 add를 작성하세요. 매개변수와 반환값에 타입 어노테이션을 추가하세요."
   ]
  },
  {
   "cell_type": "code",
   "execution_count": 18,
   "metadata": {},
   "outputs": [
    {
     "name": "stdout",
     "output_type": "stream",
     "text": [
      "13\n"
     ]
    }
   ],
   "source": [
    "def add(a: int, b: int):\n",
    "    return a + b\n",
    "\n",
    "print(add(6, 7))"
   ]
  },
  {
   "cell_type": "markdown",
   "metadata": {},
   "source": [
    "---"
   ]
  },
  {
   "cell_type": "markdown",
   "metadata": {},
   "source": [
    "[문제 6] 0부터 시작하여 n까지의 숫자 중에서 홀수만 생성하는 제너레이터 odd_numbers를 작성하세요."
   ]
  },
  {
   "cell_type": "code",
   "execution_count": 30,
   "metadata": {},
   "outputs": [
    {
     "ename": "IndentationError",
     "evalue": "expected an indented block after 'for' statement on line 6 (2232700604.py, line 7)",
     "output_type": "error",
     "traceback": [
      "  \u001b[36mCell\u001b[39m\u001b[36m \u001b[39m\u001b[32mIn[30]\u001b[39m\u001b[32m, line 7\u001b[39m\n\u001b[31m    \u001b[39m\u001b[31mprint(num, end=\" \")\u001b[39m\n    ^\n\u001b[31mIndentationError\u001b[39m\u001b[31m:\u001b[39m expected an indented block after 'for' statement on line 6\n"
     ]
    }
   ],
   "source": [
    "def odd_numbers(n):\n",
    "    for i in range(n + 1):\n",
    "        if i % 2 == 1:\n",
    "            yield i\n",
    "\n",
    "    for num in odd_numbers(10):\n",
    "    print(num, end=\" \")"
   ]
  },
  {
   "cell_type": "markdown",
   "metadata": {},
   "source": [
    "---"
   ]
  },
  {
   "cell_type": "markdown",
   "metadata": {},
   "source": [
    "[문제 7] 두 숫자를 더하는 람다 함수를 작성하고, 이를 변수에 할당한 후 사용하세요."
   ]
  },
  {
   "cell_type": "code",
   "execution_count": 32,
   "metadata": {},
   "outputs": [
    {
     "name": "stdout",
     "output_type": "stream",
     "text": [
      "3\n"
     ]
    }
   ],
   "source": [
    "add = lambda x, y : x + y\n",
    "print(add(1, 2))"
   ]
  },
  {
   "cell_type": "markdown",
   "metadata": {},
   "source": [
    "---"
   ]
  },
  {
   "cell_type": "markdown",
   "metadata": {},
   "source": [
    "[문제 8] 사용자로부터 3개의 숫자를 입력받아, 이를 튜플로 만든 후 최소값과 최대값을 출력하는 함수 min_max를 작성하세요."
   ]
  },
  {
   "cell_type": "code",
   "execution_count": 36,
   "metadata": {},
   "outputs": [
    {
     "name": "stdout",
     "output_type": "stream",
     "text": [
      "최소값: 3\n",
      "최대값: 7\n"
     ]
    }
   ],
   "source": [
    "def min_max(a, b, c):\n",
    "    numbers = (a, b, c)\n",
    "    print(\"최소값:\", min(numbers))\n",
    "    print(\"최대값:\", max(numbers))\n",
    "\n",
    "min_max(5, 7, 3)"
   ]
  },
  {
   "cell_type": "markdown",
   "metadata": {},
   "source": [
    "---"
   ]
  },
  {
   "cell_type": "markdown",
   "metadata": {},
   "source": [
    "[문제 9] 주어진 숫자가 짝수인지 확인하는 함수 is_even을 작성하세요. 짝수라면 True를, 아니라면 False를 반환하세요. 함수 내에서 조기 리턴을 활용하세요."
   ]
  },
  {
   "cell_type": "code",
   "execution_count": 44,
   "metadata": {},
   "outputs": [
    {
     "name": "stdout",
     "output_type": "stream",
     "text": [
      "False\n",
      "True\n"
     ]
    }
   ],
   "source": [
    "def is_even(n):\n",
    "    if n % 2 == 0:\n",
    "        return True\n",
    "    return False\n",
    "    \n",
    "print(is_even(1))\n",
    "print(is_even(2))"
   ]
  },
  {
   "cell_type": "markdown",
   "metadata": {},
   "source": [
    "---"
   ]
  },
  {
   "cell_type": "markdown",
   "metadata": {},
   "source": [
    "[문제 10] 팩토리얼을 계산하는 재귀 함수 factorial을 작성하세요."
   ]
  },
  {
   "cell_type": "code",
   "execution_count": 38,
   "metadata": {},
   "outputs": [
    {
     "name": "stdout",
     "output_type": "stream",
     "text": [
      "120\n"
     ]
    }
   ],
   "source": [
    "def factorial(n):\n",
    "    return 1 if n <= 1 else n * factorial(n - 1)\n",
    "\n",
    "print(factorial(5))"
   ]
  },
  {
   "cell_type": "markdown",
   "metadata": {},
   "source": [
    "---"
   ]
  },
  {
   "cell_type": "markdown",
   "metadata": {},
   "source": [
    "[문제 11] 문자열 리스트를 받아, 각 문자열의 길이를 출력하는 함수 print_lengths를 작성하세요."
   ]
  },
  {
   "cell_type": "code",
   "execution_count": 46,
   "metadata": {},
   "outputs": [
    {
     "name": "stdout",
     "output_type": "stream",
     "text": [
      "1\n",
      "2\n",
      "3\n"
     ]
    }
   ],
   "source": [
    "def print_lengths(strings):\n",
    "    for s in strings:\n",
    "        print(len(s))\n",
    "\n",
    "print_lengths([\"a\", \"aa\", \"aaa\"])"
   ]
  },
  {
   "cell_type": "markdown",
   "metadata": {},
   "source": [
    "---"
   ]
  },
  {
   "cell_type": "markdown",
   "metadata": {},
   "source": [
    "[문제 12] 두 문자열을 받아서 긴 문자열을 반환하는 함수 longer_string을 작성하세요. 만약 두 문자열의 길이가 같다면, 첫 번째 문자열을 반환하세요."
   ]
  },
  {
   "cell_type": "code",
   "execution_count": null,
   "metadata": {},
   "outputs": [],
   "source": [
    "# 공부 좀 더 하고 다시 풀어보겠읍니다 ..."
   ]
  }
 ],
 "metadata": {
  "kernelspec": {
   "display_name": "Python 3",
   "language": "python",
   "name": "python3"
  },
  "language_info": {
   "codemirror_mode": {
    "name": "ipython",
    "version": 3
   },
   "file_extension": ".py",
   "mimetype": "text/x-python",
   "name": "python",
   "nbconvert_exporter": "python",
   "pygments_lexer": "ipython3",
   "version": "3.11.9"
  }
 },
 "nbformat": 4,
 "nbformat_minor": 2
}
